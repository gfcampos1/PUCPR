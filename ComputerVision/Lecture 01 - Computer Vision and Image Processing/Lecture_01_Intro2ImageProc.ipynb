{
  "nbformat": 4,
  "nbformat_minor": 0,
  "metadata": {
    "colab": {
      "name": "Aula 01 - Intro2ImageProc",
      "provenance": [],
      "authorship_tag": "ABX9TyMII1DIWNF1f/BAvRIgn6hk",
      "include_colab_link": true
    },
    "kernelspec": {
      "name": "python3",
      "display_name": "Python 3"
    },
    "language_info": {
      "name": "python"
    }
  },
  "cells": [
    {
      "cell_type": "markdown",
      "metadata": {
        "id": "view-in-github",
        "colab_type": "text"
      },
      "source": [
        "<a href=\"https://colab.research.google.com/github/andrehochuli/teaching/blob/main/ComputerVision/Lecture%2001%20-%20Computer%20Vision%20and%20Image%20Processing/Lecture_01_Intro2ImageProc.ipynb\" target=\"_parent\"><img src=\"https://colab.research.google.com/assets/colab-badge.svg\" alt=\"Open In Colab\"/></a>"
      ]
    },
    {
      "cell_type": "code",
      "metadata": {
        "id": "mzxZpA4nawQs"
      },
      "source": [
        "import cv2\n",
        "import numpy as np\n",
        "import matplotlib.pyplot as plt\n",
        "from google.colab.patches import cv2_imshow # for image display"
      ],
      "execution_count": 15,
      "outputs": []
    },
    {
      "cell_type": "code",
      "metadata": {
        "id": "PO87yh2Na0pu"
      },
      "source": [
        "#Getting retrieving some imagens from URL\n",
        "!wget https://logodix.com/logo/627975.png -O pucpr.png\n",
        "!wget https://static.mundoeducacao.uol.com.br/vestibular/2022/04/puc-pr-bibliotecacentral-divulgacao.jpg -O campus.png\n",
        "!wget https://programmer.ink/images/think/c080fb939e166165e5f25d63cbf0e86e.jpg -O digit3.png"
      ],
      "execution_count": null,
      "outputs": []
    },
    {
      "cell_type": "markdown",
      "metadata": {
        "id": "iglKcW0XiOl8"
      },
      "source": [
        "#Manipulating Images With Opencv"
      ]
    },
    {
      "cell_type": "code",
      "metadata": {
        "id": "8f_-KP1fd8MW"
      },
      "source": [
        "#Loading a color image from disk\n",
        "img_color = cv2.imread('pucpr.png',cv2.IMREAD_COLOR)\n",
        "print(img_color.shape)\n",
        "cv2_imshow(img_color)\n"
      ],
      "execution_count": null,
      "outputs": []
    },
    {
      "cell_type": "code",
      "metadata": {
        "id": "Uiko1vWgeDuX"
      },
      "source": [
        "#Loading a gray image from disk\n",
        "img_gray = cv2.imread('pucpr.png', cv2.IMREAD_GRAYSCALE)\n",
        "print(img_gray.shape)\n",
        "cv2_imshow(img_gray)"
      ],
      "execution_count": null,
      "outputs": []
    },
    {
      "cell_type": "code",
      "source": [
        "#Loading a color image from disk and convert to grayscale\n",
        "img_color = cv2.imread('pucpr.png',cv2.IMREAD_COLOR)\n",
        "\n",
        "#Convert Function\n",
        "img_gray = cv2.cvtColor(img_color, cv2.COLOR_BGR2GRAY)\n",
        "\n",
        "print(img_color.shape, img_gray.shape)\n",
        "cv2_imshow(img_color)\n",
        "cv2_imshow(img_gray)"
      ],
      "metadata": {
        "id": "t2Unid1MYSTb"
      },
      "execution_count": null,
      "outputs": []
    },
    {
      "cell_type": "code",
      "source": [
        "#Upscale and Downscale\n",
        "original = cv2.imread('campus.png',cv2.IMREAD_COLOR)\n",
        "print(original.shape)\n",
        "cv2_imshow(original)\n",
        "\n",
        "print(\"Downscale 3x\")\n",
        "#Downscale by 3x from original\n",
        "width = int(original.shape[1]/3)\n",
        "height = int(original.shape[0]/3)\n",
        "\n",
        "img_down = cv2.resize(original,(width,height))\n",
        "print(img_down.shape)\n",
        "cv2_imshow(img_down)\n",
        "\n",
        "print(\"Resize to 128x128\")\n",
        "#Downscale to a fixed size 128x128\n",
        "img_down = cv2.resize(original,(128,128))\n",
        "print(img_down.shape)\n",
        "cv2_imshow(img_down)\n",
        "\n",
        "print(\"Upscale from 128x128 to 640x640\")\n",
        "#Downscale to a fixed size 128x128\n",
        "img_up = cv2.resize(img_down,(640,640))\n",
        "print(img_up.shape)\n",
        "cv2_imshow(img_up)"
      ],
      "metadata": {
        "id": "sqVLH2iKZ459"
      },
      "execution_count": null,
      "outputs": []
    },
    {
      "cell_type": "code",
      "source": [
        "#Lets show the pixels with a simple digit image (grayscale)\n",
        "img_digit = cv2.imread('digit3.png',cv2.IMREAD_GRAYSCALE)\n",
        "img_down = cv2.resize(img_digit,(32,32))\n",
        "print(img_down.shape)\n",
        "cv2_imshow(img_down)\n",
        "\n",
        "for y in range(img_down.shape[0]):\n",
        "  for x in range(img_down.shape[1]):\n",
        "    print('%03d' % (img_down[y][x]), end=' ')\n",
        "  print('')"
      ],
      "metadata": {
        "id": "eC8SQudUc9ya"
      },
      "execution_count": null,
      "outputs": []
    },
    {
      "cell_type": "code",
      "source": [
        "#binarization (threshold)\n",
        "#the pixels below the threshold is moved to 0, and the others to 1 (or 255)\n",
        "\n",
        "_,img_thresh = cv2.threshold(img_down,127,1,cv2.THRESH_BINARY)\n",
        "print(img_thresh.shape)\n",
        "#Multiply to 255 to visualize\n",
        "cv2_imshow(img_thresh*255)\n",
        "\n",
        "for y in range(img_thresh.shape[0]):\n",
        "  for x in range(img_thresh.shape[1]):\n",
        "    print('%d' % (img_thresh[y][x]), end='')\n",
        "  print('')"
      ],
      "metadata": {
        "id": "aTKWlYQ3fNVF"
      },
      "execution_count": null,
      "outputs": []
    },
    {
      "cell_type": "markdown",
      "metadata": {
        "id": "LQFzGADfiEJp"
      },
      "source": [
        "#Drawing Functions\n",
        "https://docs.opencv.org/4.5.2/dc/da5/tutorial_py_drawing_functions.html"
      ]
    },
    {
      "cell_type": "code",
      "metadata": {
        "id": "xo2JRIymhHWl"
      },
      "source": [
        "img = np.zeros((512,512,3), np.uint8)\n",
        "\n",
        "cv2.line(img,(0,0),(511,511),(255,0,0),5) #BGB (255,0,0)\n",
        "cv2.rectangle(img,(384,0),(510,128),(0,255,0),3)\n",
        "cv2.circle(img,(447,63), 63, (0,255,255), -1)\n",
        "\n",
        "pt = (320,256)\n",
        "\n",
        "cv2.circle(img,pt, 20, (100,76,255), 5)\n",
        "\n",
        "for i in range(0,256):\n",
        "  img[200,i] = (80,200,255)\n",
        "\n",
        "\n",
        "\n",
        "cv2_imshow(img)"
      ],
      "execution_count": null,
      "outputs": []
    },
    {
      "cell_type": "code",
      "metadata": {
        "id": "cK1Z6lx8inYM"
      },
      "source": [
        "#Accessing a specific pixel\n",
        "val = img_color[10,10]\n",
        "print(val)\n",
        "\n",
        "val = img_gray[10,10]\n",
        "print(val)"
      ],
      "execution_count": null,
      "outputs": []
    },
    {
      "cell_type": "markdown",
      "metadata": {
        "id": "WGivMWGUj6nO"
      },
      "source": [
        "#Practice 1\n",
        "\n",
        "Compute a image histogram for the PUCPR Logo in grayscale. You need to implement by your own. Do not use Opencv Functions.\n",
        "\n",
        "The histogram compute the frequencies of each pixel value (0-255)"
      ]
    },
    {
      "cell_type": "code",
      "metadata": {
        "id": "-jOrwkKCj0W5"
      },
      "source": [
        "#Implement Practive 1 here\n"
      ],
      "execution_count": 25,
      "outputs": []
    },
    {
      "cell_type": "markdown",
      "metadata": {
        "id": "okPqWST0ktkl"
      },
      "source": [
        "#Practice 2\n",
        "\n",
        "Extract each channel from the color image and show them. You can use any image.\n",
        "\n",
        "\n"
      ]
    },
    {
      "cell_type": "code",
      "metadata": {
        "id": "TZNqJI8ckr_9"
      },
      "source": [
        "#Implement Practice 2 here\n",
        "!wget https://upload.wikimedia.org/wikipedia/commons/thumb/e/e0/Synthese%2B.svg/1200px-Synthese%2B.svg.png -O rgb.png\n",
        "\n"
      ],
      "execution_count": null,
      "outputs": []
    },
    {
      "cell_type": "markdown",
      "metadata": {
        "id": "FalUEtxTlmT0"
      },
      "source": [
        "#Practice 3\n",
        "\n",
        "Using OpenCV implement some image transformation such as:\n",
        "* Flip\n",
        "* Resize\n",
        "* Concatenate two or more images\n",
        "* Change several pixel values\n"
      ]
    },
    {
      "cell_type": "code",
      "metadata": {
        "id": "U5nFXBsAioa2"
      },
      "source": [
        "#Implement Practice 3 here\n",
        "\n",
        "\n",
        "\n"
      ],
      "execution_count": 27,
      "outputs": []
    },
    {
      "cell_type": "markdown",
      "source": [
        "#Now, it is up to you!\n",
        "Take a look at the link image. Try to find the tomato and the tennis ball. Use functions and search for new ones!\n",
        "\n",
        "The final result should be an image with a rectangle bounding the tomato."
      ],
      "metadata": {
        "id": "9371xgVliWYV"
      }
    },
    {
      "cell_type": "code",
      "metadata": {
        "id": "PLgOyy4WmxXW"
      },
      "source": [
        "!wget https://cdn.pixabay.com/photo/2018/08/18/15/39/tomato-3614967_960_720.jpg -O salad.png\n",
        "!wget https://bit.ly/3Bxo9HJ -O tennisball.png\n",
        "im_salad = cv2.imread('salad.png', cv2.IMREAD_COLOR)\n",
        "im_tennis = cv2.imread('tennisball.png', cv2.IMREAD_COLOR)\n",
        "cv2_imshow(im_salad)\n",
        "cv2_imshow(im_tennis)\n",
        "\n"
      ],
      "execution_count": null,
      "outputs": []
    }
  ]
}