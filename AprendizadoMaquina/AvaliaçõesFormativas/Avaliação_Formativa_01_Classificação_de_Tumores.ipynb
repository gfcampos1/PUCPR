{
  "nbformat": 4,
  "nbformat_minor": 0,
  "metadata": {
    "colab": {
      "provenance": [],
      "toc_visible": true,
      "authorship_tag": "ABX9TyMo04Jcx1LWqWGFUMkJ1lJj",
      "include_colab_link": true
    },
    "kernelspec": {
      "name": "python3",
      "display_name": "Python 3"
    },
    "language_info": {
      "name": "python"
    }
  },
  "cells": [
    {
      "cell_type": "markdown",
      "metadata": {
        "id": "view-in-github",
        "colab_type": "text"
      },
      "source": [
        "<a href=\"https://colab.research.google.com/github/andrehochuli/teaching/blob/main/AprendizadoMaquina/Avalia%C3%A7%C3%B5esFormativas/Avalia%C3%A7%C3%A3o_Formativa_01_Classifica%C3%A7%C3%A3o_de_Tumores.ipynb\" target=\"_parent\"><img src=\"https://colab.research.google.com/assets/colab-badge.svg\" alt=\"Open In Colab\"/></a>"
      ]
    },
    {
      "cell_type": "markdown",
      "source": [
        "#Avaliação Formativa - Classificação de Tumores\n",
        "\n",
        "O ICMR (Conselho Indiano de Pesquisa Médica, na sigla em inglês) deseja analisar diferentes tipos de câncer, como câncer de mama, câncer renal, câncer de cólon, câncer de pulmão e câncer de próstata, que se tornaram uma causa de preocupação nos últimos anos. Eles gostariam de identificar a provável causa desses cânceres em termos de genes responsáveis por cada tipo de câncer. Isso nos levaria à identificação precoce de cada tipo de câncer, reduzindo a taxa de fatalidade.\n",
        "\n",
        "Detalhes do conjunto de dados:\n",
        "A base de dados de entrada contém 802 amostras para as 802 pessoas que foram detectadas com diferentes tipos de câncer. Cada amostra contém valores de expressão de mais de 20 mil genes. As amostras têm um dos tipos de tumores: BRCA, KIRC, COAD, LUAD e PRAD.\n",
        "\n",
        "\n",
        "Maiores detalhes podem ser encontrados em [Kaggle ICMR](https://www.kaggle.com/datasets/shibumohapatra/icmr-data)\n",
        "\n"
      ],
      "metadata": {
        "id": "HEJDCbXZ7NZ9"
      }
    },
    {
      "cell_type": "markdown",
      "source": [
        "Os alunos devem utilizar os conhecimentos adquiridos na disciplina para desenvolver um modelo de aprendizado de máquina para classificar os tumores.\n",
        "\n",
        "O trabalho consiste em: \n",
        "\n",
        "\n",
        "\n",
        "*   Pré-Processamento dos dados (Converter dados categoricos, normalização, etc)\n",
        "*   Análise Exploratória (Analisar desbalanceamentos e distribuição das classes)\n",
        "\n",
        "*   Se necessário aplicar técnicas de balanceamento e reducão (PCA)\n",
        "\n",
        "*   Treinar os modelos (KNN, NB, DT) e realizar as análises crítitcas\n"
      ],
      "metadata": {
        "id": "_4liNox88IjY"
      }
    }
  ]
}